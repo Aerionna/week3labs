{
 "cells": [
  {
   "cell_type": "markdown",
   "id": "b347d7f9-bdc8-4de6-a7f6-232b75101348",
   "metadata": {},
   "source": [
    "Intro to Python MSBA | Aerionna Skrutvold\n",
    "\n",
    "## Week 3 Independent Lab: March 16, 2025\n",
    "Let's create code for a kiosk for outdoor equipment.\n",
    "Welcome to my outdoor equipment kiosk!"
   ]
  },
  {
   "cell_type": "code",
   "execution_count": 10,
   "id": "e52a1d33-4c4c-4574-9968-462f86442f64",
   "metadata": {},
   "outputs": [
    {
     "name": "stdout",
     "output_type": "stream",
     "text": [
      "Welcome! This kiosk sells outdoor equipment for your Montana adventures.\n",
      "Please place your order by selecting the product and subsequently providing the quantity desired.\n",
      "\n",
      "Here are the product options:\n",
      "ProductID   Product                Price\n",
      "1: Freezedry Meals      $5.5\n",
      "2: Hiking Poles         $7.0\n",
      "3: Bear Spray          $10.0\n",
      "4: Hiking Pack         $11.0\n",
      "5: Backcountry Tent    $25.0\n"
     ]
    },
    {
     "name": "stdin",
     "output_type": "stream",
     "text": [
      "\n",
      "Please place your order by selecting the ProductID: 1\n",
      "Please provide the quantity desired: 1\n"
     ]
    },
    {
     "name": "stdout",
     "output_type": "stream",
     "text": [
      "You want 1 of Freezedry Meals.\n",
      "The current total for your order is $5.5\n"
     ]
    },
    {
     "name": "stdin",
     "output_type": "stream",
     "text": [
      "\n",
      "If you are finished ordering, please input 1; otherwise, if you would like to add to your order, please input 2: 1\n"
     ]
    },
    {
     "name": "stdout",
     "output_type": "stream",
     "text": [
      "\n",
      "The order is complete. Here is your final order summary:\n",
      "Total order cost: $5.5\n",
      "Here is a summary of your final order:\n",
      "['1 x Freezedry Meals']\n",
      "The total cost for your order is $5.5\n"
     ]
    }
   ],
   "source": [
    "# Define product IDs\n",
    "product_1 = 1\n",
    "product_2 = 2\n",
    "product_3 = 3\n",
    "product_4 = 4\n",
    "product_5 = 5\n",
    "\n",
    "# Define product prices\n",
    "Freezedry_Meals = 5.50\n",
    "Hiking_Poles = 7.00\n",
    "Bear_Spray = 10.00\n",
    "Hiking_Pack = 11.00\n",
    "Backcountry_Tent = 25.00\n",
    "\n",
    "order_total = 0 \n",
    "ordered_products = [] # Step 1: Create an empty list to store products\n",
    "\n",
    "# Welcome message\n",
    "print(\"Welcome! This kiosk sells outdoor equipment for your Montana adventures.\")\n",
    "print(\"Please place your order by selecting the product and subsequently providing the quantity desired.\\n\")\n",
    "\n",
    "# Display product options\n",
    "print(\"Here are the product options:\")\n",
    "print(\"ProductID   Product                Price\")\n",
    "print(f\"{product_1}: Freezedry Meals      ${Freezedry_Meals:}\")\n",
    "print(f\"{product_2}: Hiking Poles         ${Hiking_Poles:}\")\n",
    "print(f\"{product_3}: Bear Spray          ${Bear_Spray:}\")\n",
    "print(f\"{product_4}: Hiking Pack         ${Hiking_Pack:}\")\n",
    "print(f\"{product_5}: Backcountry Tent    ${Backcountry_Tent:}\")\n",
    "\n",
    "# Infinite loop for ordering more than one item \n",
    "while True:\n",
    "    # Get user input\n",
    "    Product_Selected = int(input(\"\\nPlease place your order by selecting the ProductID:\"))\n",
    "    Product_Quantity = int(input(\"Please provide the quantity desired:\"))\n",
    "\n",
    "    # If Else to figure out what product was selected and the price\n",
    "    if Product_Selected == 1:\n",
    "        Product_Name = \"Freezedry Meals\"\n",
    "        Product_Price = Freezedry_Meals\n",
    "    elif Product_Selected == 2:\n",
    "        Product_Name = \"Hiking Poles\"\n",
    "        Product_Price = Hiking_Poles\n",
    "    elif Product_Selected == 3:\n",
    "        Product_Name = \"Bear Spray\"\n",
    "        Product_Price = Bear_Spray\n",
    "    elif Product_Selected == 4:\n",
    "        Product_Name = \"Hiking Pack\"\n",
    "        Product_Price = Hiking_Pack\n",
    "    elif Product_Selected == 5:\n",
    "        Product_Name = \"Backcountry Tent\"\n",
    "        Product_Price = Backcountry_Tent\n",
    "    else:\n",
    "        print(\"\\nThat is not an option. Please try again.\")\n",
    "        continue  # Restart loop if invalid input is entered\n",
    "\n",
    "    # Create variable for order price\n",
    "    order_price = Product_Price * Product_Quantity\n",
    "    # Create variable for order total\n",
    "    order_total += order_price\n",
    "\n",
    "    # Display selected item and total cost so far\n",
    "    print(f\"You want {Product_Quantity} of {Product_Name}.\")\n",
    "    print(f\"The current total for your order is ${order_total:}\")\n",
    "\n",
    "    # Store the products in the list\n",
    "    ordered_products.append(f\"{Product_Quantity} x {Product_Name}\")\n",
    "    \n",
    "    # Ask if they want to continue ordering\n",
    "    cont_order = int(input(\"\\nIf you are finished ordering, please input 1; otherwise, if you would like to add to your order, please input 2:\"))\n",
    "\n",
    "    if cont_order == 1:\n",
    "        print(\"\\nThe order is complete. Here is your final order summary:\")\n",
    "        print(f\"Total order cost: ${order_total:}\")\n",
    "        break  # Break to exit the infinite loop\n",
    "    elif cont_order == 2:\n",
    "        print(\"\\nAdding to your order...\")\n",
    "    else:\n",
    "        print(\"\\nInvalid input. Ending order.\")\n",
    "        break  # Exit if user enters anything other than 1 or 2\n",
    "\n",
    "# Display product summary \n",
    "print(f\"Here is a summary of your final order:\")\n",
    "print(f\"{ordered_products}\") \n",
    "print(f\"The total cost for your order is ${order_total:}\")"
   ]
  },
  {
   "cell_type": "markdown",
   "id": "98f3da0e-c91f-4cab-9f2d-26eda5055d07",
   "metadata": {},
   "source": [
    "#### Sources\n",
    "I did need to use ChatGPT to clarify some concepts for me on this assignment, here's a link to the conversation. https://chatgpt.com/share/67d86f27-2ff0-8012-978f-9ba5c59c37b5 "
   ]
  },
  {
   "cell_type": "code",
   "execution_count": null,
   "id": "e285a915-86b2-4035-82c5-fb64668928ef",
   "metadata": {},
   "outputs": [],
   "source": []
  }
 ],
 "metadata": {
  "kernelspec": {
   "display_name": "Python 3 (ipykernel)",
   "language": "python",
   "name": "python3"
  },
  "language_info": {
   "codemirror_mode": {
    "name": "ipython",
    "version": 3
   },
   "file_extension": ".py",
   "mimetype": "text/x-python",
   "name": "python",
   "nbconvert_exporter": "python",
   "pygments_lexer": "ipython3",
   "version": "3.12.7"
  }
 },
 "nbformat": 4,
 "nbformat_minor": 5
}
