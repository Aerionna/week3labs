{
 "cells": [
  {
   "cell_type": "markdown",
   "id": "5ad4c1f3-4438-4a1c-9b18-65539d776937",
   "metadata": {},
   "source": [
    "Intro to Python MSBA |  Aerionna Skrutvold\n",
    "\n",
    "# Week 3 Instructor Lab: March 15, 2025\n",
    "\n",
    "##### Let's work through week three instructor lab adding Kelvin to our previous week two code material. \n",
    "---\n",
    "\n",
    "## Welcome to my tempature converter! \n",
    "\n",
    "### Create Variables"
   ]
  },
  {
   "cell_type": "code",
   "execution_count": 1,
   "id": "1825b10f-6e57-4985-956d-b4e79815d267",
   "metadata": {},
   "outputs": [],
   "source": [
    "celsius = 0.0\n",
    "fahrenheit = 0.0\n",
    "kelvin = 0.0"
   ]
  },
  {
   "cell_type": "markdown",
   "id": "005fac81-f539-4f1c-bab5-61013a938ad5",
   "metadata": {},
   "source": [
    "### Get User Input"
   ]
  },
  {
   "cell_type": "code",
   "execution_count": 2,
   "id": "d0091e56-b149-462b-bf4e-72f41f096759",
   "metadata": {},
   "outputs": [
    {
     "name": "stdin",
     "output_type": "stream",
     "text": [
      "Please provide a value, in Celsius, to convert:\n",
      " 80\n"
     ]
    }
   ],
   "source": [
    "celsius_value = float(input(\"Please provide a value, in Celsius, to convert:\\n\"))    "
   ]
  },
  {
   "cell_type": "code",
   "execution_count": 3,
   "id": "0ae79578-aa10-4edb-b5e9-172aedb11311",
   "metadata": {},
   "outputs": [],
   "source": [
    "celsius = celsius_value     "
   ]
  },
  {
   "cell_type": "markdown",
   "id": "868d6b24-7106-40e6-880b-f76cd3148e20",
   "metadata": {},
   "source": [
    "### Convert Celsius to Fahrenheit"
   ]
  },
  {
   "cell_type": "code",
   "execution_count": 4,
   "id": "1cb8a663-2572-4b82-90a8-3859b36d26b2",
   "metadata": {},
   "outputs": [],
   "source": [
    "fahrenheit = ((9 / 5) * celsius + 32)  # Equation for fahrenheit. "
   ]
  },
  {
   "cell_type": "markdown",
   "id": "5fc4d305-2457-4d28-a1f5-42dcc34203a4",
   "metadata": {},
   "source": [
    "### Convert Celsius to Kelivn"
   ]
  },
  {
   "cell_type": "code",
   "execution_count": 5,
   "id": "561daa8e-1bad-47c0-a4e6-c09e4dd29911",
   "metadata": {},
   "outputs": [],
   "source": [
    "kelvin = celsius + 273.15"
   ]
  },
  {
   "cell_type": "markdown",
   "id": "b3d5f623-fde7-4457-aa59-95eb66164c27",
   "metadata": {},
   "source": [
    "### Display Conversion Results"
   ]
  },
  {
   "cell_type": "code",
   "execution_count": 6,
   "id": "2d5708e3-6d81-434e-b4bf-5b951ec696f2",
   "metadata": {},
   "outputs": [
    {
     "name": "stdout",
     "output_type": "stream",
     "text": [
      "80.0 degrees Celsius is 176.0 degrees Fahrenheit which is 353.15 degrees Kelvin.\n"
     ]
    }
   ],
   "source": [
    "print(f\"{celsius} degrees Celsius is {fahrenheit} degrees Fahrenheit which is {kelvin} degrees Kelvin.\") "
   ]
  },
  {
   "cell_type": "markdown",
   "id": "84842af0-6173-4a80-84dd-6e6e39a4dec0",
   "metadata": {},
   "source": [
    "### Create Additional Variables "
   ]
  },
  {
   "cell_type": "code",
   "execution_count": 7,
   "id": "6b537975-9f86-463e-91c4-198436fb1a3f",
   "metadata": {},
   "outputs": [],
   "source": [
    "celsius_two = 0.0\n",
    "fahrenheit_two = 0.0\n",
    "kelvin_two = 0.0"
   ]
  },
  {
   "cell_type": "code",
   "execution_count": 8,
   "id": "badfb117-52b6-4df7-9262-b58dc4ddc543",
   "metadata": {},
   "outputs": [],
   "source": [
    "### Get User Input R2"
   ]
  },
  {
   "cell_type": "code",
   "execution_count": 9,
   "id": "ce63ff51-2e15-4e7a-91f0-f4e725b7c45f",
   "metadata": {},
   "outputs": [
    {
     "name": "stdin",
     "output_type": "stream",
     "text": [
      "Please provide a value, in Celsius, to convert:\n",
      " -10\n"
     ]
    }
   ],
   "source": [
    "celsius_value2 = float(input(\"Please provide a value, in Celsius, to convert:\\n\"))  "
   ]
  },
  {
   "cell_type": "code",
   "execution_count": 10,
   "id": "2bb703c6-ec1f-4ff1-8742-2075c37f0232",
   "metadata": {},
   "outputs": [],
   "source": [
    "celsius_two = celsius_value2  "
   ]
  },
  {
   "cell_type": "markdown",
   "id": "b77c2618-0bd5-4551-a1f2-d88faf8d2a63",
   "metadata": {},
   "source": [
    "### Convert Celsius to Fahrenheit + Kelvin R2"
   ]
  },
  {
   "cell_type": "code",
   "execution_count": 11,
   "id": "d8ce56bc-ff8f-4633-96eb-fa58d44eb14b",
   "metadata": {},
   "outputs": [],
   "source": [
    "fahrenheit_two = ((9 / 5) * celsius_two + 32)  \n",
    "kelvin_two = celsius_two + 273.15"
   ]
  },
  {
   "cell_type": "markdown",
   "id": "c9833000-5fd5-4098-bfc2-1b51d4b89a84",
   "metadata": {},
   "source": [
    "### Display Conversion Results for R2 Variables "
   ]
  },
  {
   "cell_type": "code",
   "execution_count": 12,
   "id": "1254b872-41ae-4a46-8249-3b44842e7f2b",
   "metadata": {},
   "outputs": [
    {
     "name": "stdout",
     "output_type": "stream",
     "text": [
      "Second set of values: -10.0 degrees Celsius is 14.0 degrees Fahrenheit which is 263.15 degrees Kelvin.\n"
     ]
    }
   ],
   "source": [
    "print(f\"Second set of values: {celsius_two} degrees Celsius is {fahrenheit_two} degrees Fahrenheit which is {kelvin_two} degrees Kelvin.\") "
   ]
  },
  {
   "cell_type": "markdown",
   "id": "d3e26e80-34b1-448b-b821-b4ba492798ad",
   "metadata": {},
   "source": [
    "### Comparing Temperatures"
   ]
  },
  {
   "cell_type": "code",
   "execution_count": 13,
   "id": "be3a3a0e-0397-471d-835d-88526d85d2b2",
   "metadata": {},
   "outputs": [
    {
     "name": "stdout",
     "output_type": "stream",
     "text": [
      "The original Celsius value of 80.0 is larger than the new value of -10.0.\n"
     ]
    }
   ],
   "source": [
    "# Celsius\n",
    "if celsius > celsius_two:\n",
    "    print(f\"The original Celsius value of {celsius} is larger than the new value of {celsius_two}.\")\n",
    "elif celsius < celsius_two:\n",
    "    print(f\"The original Celsius value of {celsius} is smaller than the new value of {celsius_two}.\")\n",
    "elif celsius == celsius_two:\n",
    "    print(f\"The original Celsius value of {celsius} equals the new value of {celsius_two}.\")"
   ]
  },
  {
   "cell_type": "code",
   "execution_count": 14,
   "id": "1552659e-cd7c-4d3a-8c84-07e04f6a3f4f",
   "metadata": {},
   "outputs": [
    {
     "name": "stdout",
     "output_type": "stream",
     "text": [
      "The original Fahrenheit value of 176.0 is greater than or equal to the new value of 14.0.\n"
     ]
    }
   ],
   "source": [
    "# Fahrenheit\n",
    "if fahrenheit >= fahrenheit_two:\n",
    "    print(f\"The original Fahrenheit value of {fahrenheit} is greater than or equal to the new value of {fahrenheit_two}.\")\n",
    "elif fahrenheit < fahrenheit_two:\n",
    "    print(f\"The original Fahrenheit value of {fahrenheit} is smaller than the new value of {fahrenheit_two}.\")\n",
    "elif fahrenheit == fahrenheit_two:\n",
    "    print(f\"The original Fahrenheit value of {fahrenheit} is equal to {fahrenheit_two}.\")"
   ]
  },
  {
   "cell_type": "code",
   "execution_count": 15,
   "id": "6617d841-b69d-42b6-b01d-305b25932390",
   "metadata": {},
   "outputs": [
    {
     "name": "stdout",
     "output_type": "stream",
     "text": [
      "The original Kelvin value of 353.15 is not equal to the new value of 263.15.\n"
     ]
    }
   ],
   "source": [
    "# Kelvin\n",
    "if kelvin <= kelvin_two:\n",
    "    print(f\"The original Kelvin value of {kelvin} is less than or equal to the new value of {kelvin_two}.\")\n",
    "elif kelvin < kelvin_two:\n",
    "    print(f\"The original Kelvin value of {kelvin} is smaller than the new value of {kelvin_two}.\")\n",
    "elif kelvin != kelvin_two:\n",
    "    print(f\"The original Kelvin value of {kelvin} is not equal to the new value of {kelvin_two}.\")"
   ]
  },
  {
   "cell_type": "markdown",
   "id": "1961b0f9-f13f-44d1-8b85-37176d853203",
   "metadata": {},
   "source": [
    "### Creating Logical Operators "
   ]
  },
  {
   "cell_type": "code",
   "execution_count": 26,
   "id": "f468e644-84ca-4d75-8e3a-0bcd52f4a48e",
   "metadata": {},
   "outputs": [
    {
     "name": "stdout",
     "output_type": "stream",
     "text": [
      "celsius > celsius_two and fahrenheit >= fahrenheit_two\n"
     ]
    }
   ],
   "source": [
    "print(\"celsius > celsius_two and fahrenheit >= fahrenheit_two\")"
   ]
  },
  {
   "cell_type": "code",
   "execution_count": 17,
   "id": "a08e7200-20e9-4a2b-b171-6d153faee28b",
   "metadata": {},
   "outputs": [
    {
     "name": "stdout",
     "output_type": "stream",
     "text": [
      "Python speaks the truth!\n"
     ]
    }
   ],
   "source": [
    "if celsius > celsius_two and fahrenheit >= fahrenheit_two:\n",
    "    print(f\"Python speaks the truth!\")\n",
    "else:\n",
    "    print(f\"Python lies.\")"
   ]
  },
  {
   "cell_type": "code",
   "execution_count": 25,
   "id": "113dcbf1-7348-44e9-8cdb-abae885ce41c",
   "metadata": {},
   "outputs": [
    {
     "name": "stdout",
     "output_type": "stream",
     "text": [
      "celsius == celsius_two or kelvin != kelvin_two\n"
     ]
    }
   ],
   "source": [
    "print(\"celsius == celsius_two or kelvin != kelvin_two\")"
   ]
  },
  {
   "cell_type": "code",
   "execution_count": 20,
   "id": "d06b4278-a14c-4a6b-b2e6-698d66ce2bd2",
   "metadata": {},
   "outputs": [
    {
     "name": "stdout",
     "output_type": "stream",
     "text": [
      "Python speaks the truth!\n"
     ]
    }
   ],
   "source": [
    "if celsius == celsius_two or kelvin != kelvin_two:\n",
    "    print(f\"Python speaks the truth!\")\n",
    "else:\n",
    "    print(f\"Python lies.\")"
   ]
  }
 ],
 "metadata": {
  "kernelspec": {
   "display_name": "Python 3 (ipykernel)",
   "language": "python",
   "name": "python3"
  },
  "language_info": {
   "codemirror_mode": {
    "name": "ipython",
    "version": 3
   },
   "file_extension": ".py",
   "mimetype": "text/x-python",
   "name": "python",
   "nbconvert_exporter": "python",
   "pygments_lexer": "ipython3",
   "version": "3.12.7"
  }
 },
 "nbformat": 4,
 "nbformat_minor": 5
}
